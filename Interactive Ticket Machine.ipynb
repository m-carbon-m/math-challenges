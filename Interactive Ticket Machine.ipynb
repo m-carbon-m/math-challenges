{
 "cells": [
  {
   "cell_type": "markdown",
   "id": "70f9d0de",
   "metadata": {},
   "source": [
    "### Interaktiver Ticketautomat / Interactive Ticket Machine\n",
    "\n",
    "**Deutsch:**  \n",
    "In diesem Projekt habe ich einen interaktiven Ticketautomaten erstellt.  \n",
    "Der Automat fragt, wie viele Tickets der Benutzer kaufen möchte, und verwaltet eine maximale Anzahl von 10 Tickets.  \n",
    "\n",
    "Durch dieses Projekt habe ich gelernt, wie man Benutzereingaben verarbeitet und interaktive Programme in Python erstellt.\n",
    "\n",
    "**English:**  \n",
    "In this project, I created an interactive ticket machine.  \n",
    "The machine asks how many tickets the user wants to buy and manages a maximum of 10 tickets.  \n",
    "\n",
    "Through this project, I learned how to handle user input and create interactive programs in Python.\n"
   ]
  },
  {
   "cell_type": "code",
   "execution_count": 5,
   "id": "ca77c282",
   "metadata": {},
   "outputs": [
    {
     "name": "stdout",
     "output_type": "stream",
     "text": [
      "Hier sind deine 10 Tickets, viel Spaß!\n",
      "Leider sind zurzeit keine Tickets verfügbar. Einen schönen Tag!\n"
     ]
    }
   ],
   "source": [
    "tickets = 10\n",
    "\n",
    "while True:\n",
    "    user_eingabe = int(input(\"Wie viele Tickets möchtest du kaufen?\"))\n",
    "    if (tickets - user_eingabe) >= 0:\n",
    "        tickets = tickets - user_eingabe\n",
    "        if user_eingabe == 1:\n",
    "            print(\"Hier ist dein Ticket, viel Spaß!\")\n",
    "        else:\n",
    "            print(\"Hier sind deine\", user_eingabe,\"Tickets, viel Spaß!\")\n",
    "    else:\n",
    "        if tickets > 0: \n",
    "            print(\"Sorry, leider gibt es nur noch\", tickets, \" Tickets verfügbar. Möchtest du\", tickets, \"kaufen?\")\n",
    "            user_antwort = input(\"ja oder nein?\")\n",
    "            if user_antwort == \"ja\" or user_antwort == \"Ja\":\n",
    "                if tickets == 1:\n",
    "                    print(\"Hier ist dein Ticket, viel Spaß\")\n",
    "                else:\n",
    "                    print(\"Hier sind deine\", tickets,\"Tickets, viel Spaß!\")\n",
    "                tickets = 0\n",
    "            else:\n",
    "                print(\"Alles klar, vielleicht beim nächsten Mal. Einen schönen Tag!\")\n",
    "            break\n",
    "        else:\n",
    "            print(\"Leider sind zurzeit keine Tickets verfügbar. Einen schönen Tag!\")\n",
    "            break\n"
   ]
  }
 ],
 "metadata": {
  "kernelspec": {
   "display_name": "py312",
   "language": "python",
   "name": "py312"
  },
  "language_info": {
   "codemirror_mode": {
    "name": "ipython",
    "version": 3
   },
   "file_extension": ".py",
   "mimetype": "text/x-python",
   "name": "python",
   "nbconvert_exporter": "python",
   "pygments_lexer": "ipython3",
   "version": "3.9.6"
  }
 },
 "nbformat": 4,
 "nbformat_minor": 5
}
