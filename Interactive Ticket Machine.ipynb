{
 "cells": [
  {
   "cell_type": "markdown",
   "id": "70f9d0de",
   "metadata": {},
   "source": [
    "### Der interaktive Ticketautomat / The Interactive Ticket Machine\n",
    "\n",
    "**Deutsch:**  \n",
    "In diesem Projekt habe ich einen interaktiven Ticketautomaten erstellt.  \n",
    "Der Automat fragt, wie viele Tickets der Benutzer kaufen möchte, und verwaltet eine maximale Anzahl von 10 Tickets.  \n",
    "\n",
    "Durch dieses Projekt habe ich gelernt, wie man Benutzereingaben verarbeitet und interaktive Programme in Python** erstellt.\n",
    "\n",
    "**English:**  \n",
    "In this project, I created an interactive ticket machine.  \n",
    "The machine asks how many tickets the user wants to buy and manages a maximum of 10 tickets.  \n",
    "\n",
    "Through this project, I learned how to handle user input and create interactive programs in Python.\n"
   ]
  },
  {
   "cell_type": "code",
   "execution_count": null,
   "id": "ca77c282",
   "metadata": {},
   "outputs": [],
   "source": [
    "tickets = 10\n",
    "\n",
    "while True:\n",
    "    user_eingabe = int(input(\"Wie viele Tickets möchtest du kaufen?\"))\n",
    "    if (tickets - user_eingabe) >= 0:\n",
    "        tickets = tickets - user_eingabe\n",
    "        if user_eingabe == 1:\n",
    "            print(\"Hier ist dein Ticket, viel Spaß!\")\n",
    "        else:\n",
    "            print(\"Hier sind deine\", user_eingabe,\"Tickets, viel Spaß!\")\n",
    "    else:\n",
    "        if tickets > 0: \n",
    "            print(\"Sorry, leider gibt es nur noch\", tickets, \" Tickets verfügbar. Möchtest du\", tickets, \"kaufen?\")\n",
    "            user_antwort = input(\"ja oder nein?\")\n",
    "            if user_antwort == \"ja\" or user_antwort == \"Ja\":\n",
    "                if tickets == 1:\n",
    "                    print(\"Hier ist dein Ticket, viel Spaß\")\n",
    "                else:\n",
    "                    print(\"Hier sind deine\", tickets,\"Tickets, viel Spaß!\")\n",
    "                tickets = 0\n",
    "            else:\n",
    "                print(\"Alles klar, vielleicht beim nächsten Mal. Einen schönen Tag!\")\n",
    "            break\n",
    "        else:\n",
    "            print(\"Leider sind zurzeit keine Tickets verfügbar. Einen schönen Tag!\")\n",
    "            break\n"
   ]
  }
 ],
 "metadata": {
  "language_info": {
   "name": "python"
  }
 },
 "nbformat": 4,
 "nbformat_minor": 5
}
