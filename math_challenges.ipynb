{
 "cells": [
  {
   "cell_type": "markdown",
   "id": "5d50757f",
   "metadata": {},
   "source": [
    "## Math Challenges\n",
    "A collection of Python exercises exploring interesting number properties."
   ]
  },
  {
   "cell_type": "markdown",
   "id": "ab7ecc22",
   "metadata": {},
   "source": [
    "### Narcissistic Numbers\n",
    "\n",
    "Numbers whose digits, each raised to the power of the number of digits, sum up to the number itself.  \n",
    "\n",
    "**Goal:** Calculate how many 3-digit narcissistic numbers exist.\n"
   ]
  },
  {
   "cell_type": "code",
   "execution_count": 1,
   "id": "1066f991",
   "metadata": {},
   "outputs": [],
   "source": [
    "def is_three_digit_narcissistic_number(abc):\n",
    "    abc = str(abc)\n",
    "    a = int(abc[0])\n",
    "    b = int(abc[1])\n",
    "    c = int(abc[2])\n",
    "    abc = int(abc)\n",
    "    return ((a**3) + (b**3) + (c**3)) == abc"
   ]
  },
  {
   "cell_type": "code",
   "execution_count": 2,
   "id": "08bf5f5c",
   "metadata": {},
   "outputs": [],
   "source": [
    "def count_three_digit_narcissistic_numbers():\n",
    "    start = 100\n",
    "    end = 999\n",
    "    narcissistic_numbers = []\n",
    "    for n in range(start, end+1):\n",
    "        if is_three_digit_narcissistic_number(n):\n",
    "            narcissistic_numbers.append(n)\n",
    "    print(len(narcissistic_numbers))"
   ]
  },
  {
   "cell_type": "code",
   "execution_count": 3,
   "id": "4b7df638",
   "metadata": {},
   "outputs": [
    {
     "name": "stdout",
     "output_type": "stream",
     "text": [
      "4\n"
     ]
    }
   ],
   "source": [
    "count_three_digit_narcissistic_numbers()"
   ]
  },
  {
   "cell_type": "markdown",
   "id": "f8133e9d",
   "metadata": {},
   "source": [
    "### Palindrome Numbers\n",
    "\n",
    "Numbers that read the same forwards and backwards.  \n",
    "\n",
    "**Goal:** Calculate all palindrome numbers between 100 and 10000."
   ]
  },
  {
   "cell_type": "code",
   "execution_count": 1,
   "id": "340e6b21",
   "metadata": {},
   "outputs": [],
   "source": [
    "def count_palindromes(start : int, end : int):\n",
    "    palindromes = []\n",
    "    for n in range(start,(end+1)):\n",
    "        n = str(n)\n",
    "        if n == n[::-1]:\n",
    "            palindromes.append(n)\n",
    "    print(len(palindromes))"
   ]
  },
  {
   "cell_type": "code",
   "execution_count": 2,
   "id": "25704ced",
   "metadata": {},
   "outputs": [
    {
     "name": "stdout",
     "output_type": "stream",
     "text": [
      "180\n"
     ]
    }
   ],
   "source": [
    "count_palindromes(100,10000)"
   ]
  },
  {
   "cell_type": "markdown",
   "id": "45e0c733",
   "metadata": {},
   "source": [
    "### Circular Prime Numbers\n",
    "\n",
    "A number is a **circular prime** if all rotations of its digits are prime numbers.  \n",
    "\n",
    "**Goal:** Calculate how many circular prime numbers exist between 2 and 1000.\n"
   ]
  },
  {
   "cell_type": "code",
   "execution_count": 6,
   "id": "d71ce15b",
   "metadata": {},
   "outputs": [],
   "source": [
    "def is_prime(number: int):\n",
    "    divisors = []\n",
    "    for n in range(1,number+1):\n",
    "        if number % n == 0:\n",
    "            divisors.append(n)\n",
    "    return len(divisors) == 2\n",
    "        "
   ]
  },
  {
   "cell_type": "code",
   "execution_count": 4,
   "id": "0c5a1da0",
   "metadata": {},
   "outputs": [],
   "source": [
    "def is_circular_prime(number):\n",
    "    if is_prime(number) and number < 10:\n",
    "        return True\n",
    "    elif is_prime(number) and number < 100:\n",
    "        number = str(number)\n",
    "        reverse_number = number[::-1]\n",
    "        reverse_number = int(reverse_number)\n",
    "        return is_prime(reverse_number)\n",
    "    elif is_prime(number) and number < 1000:\n",
    "        number = str(number)\n",
    "        a = number[0]\n",
    "        b = number[1]\n",
    "        c = number[2]\n",
    "        number2 = b + c + a\n",
    "        number2 = int(number2)\n",
    "        if is_prime(number2):\n",
    "            number3 = c + a + b\n",
    "            number3 = int(number3)\n",
    "            return is_prime(number3)\n",
    "    elif is_prime(number) and number < 10000: #Falls 1000 eingeschlossen ist, sonst kann dieses elif entfernt werden.\n",
    "        number = str(number)\n",
    "        a = number[0]\n",
    "        b = number[1]\n",
    "        c = number[2]\n",
    "        d = number[3]\n",
    "        number2 = b + c + d + a\n",
    "        number2 = int(number2)\n",
    "        if is_prime(number2):\n",
    "            number3 = c + d + a + b\n",
    "            number3 = int(number3)\n",
    "            if is_prime(number3):\n",
    "                number4 = d + a + b + c\n",
    "                number4 = int(number4)\n",
    "                return is_prime(number4)"
   ]
  },
  {
   "cell_type": "code",
   "execution_count": 7,
   "id": "55c823ad",
   "metadata": {},
   "outputs": [
    {
     "name": "stdout",
     "output_type": "stream",
     "text": [
      "2 ; 3 ; 5 ; 7 ; 11 ; 13 ; 17 ; 31 ; 37 ; 71 ; 73 ; 79 ; 97 ; 113 ; 131 ; 197 ; 199 ; 311 ; 337 ; 373 ; 719 ; 733 ; 919 ; 971 ; 991 ; \n",
      "Es gibt 25 zirkuläre Primzahlen.\n"
     ]
    }
   ],
   "source": [
    "zirkuläre_primzahlen = 0\n",
    "for n in range(2,1001): #Falls 2 und 1000 eingeschlossen sind, sonst sollte range(3, 1000) sein.\n",
    "    if is_circular_prime(n):\n",
    "        print(n, end=\" ; \")\n",
    "        zirkuläre_primzahlen += 1\n",
    "print(\"\\nEs gibt\", zirkuläre_primzahlen, \"zirkuläre Primzahlen.\")"
   ]
  },
  {
   "cell_type": "markdown",
   "id": "1f169b50",
   "metadata": {},
   "source": [
    "### Number with Most Divisors\n",
    "\n",
    "**Goal:** Find the number between 2 and 1000 that has the highest number of divisors.\n"
   ]
  },
  {
   "cell_type": "code",
   "execution_count": 8,
   "id": "6d1ec8d5",
   "metadata": {},
   "outputs": [],
   "source": [
    "def find_divisors(number):\n",
    "    divisors = []\n",
    "    for n in range(1,number+1):\n",
    "        if number % n == 0:\n",
    "            divisors.append(n)\n",
    "    return len(divisors)"
   ]
  },
  {
   "cell_type": "code",
   "execution_count": 9,
   "id": "c07e214a",
   "metadata": {},
   "outputs": [
    {
     "name": "stdout",
     "output_type": "stream",
     "text": [
      "840 hat 32 Teiler und hat die meisten Teiler!\n"
     ]
    }
   ],
   "source": [
    "max_divisors = 0\n",
    "winner = 0\n",
    "for n in range(3, 1000): #Wenn 2 und 1000 eingeschlossen sind, sollte es range(2, 1001) sein.\n",
    "    if find_divisors(n) > max_divisors:\n",
    "        max_divisors = find_divisors(n)\n",
    "        winner = n\n",
    "print(f'{winner} hat {max_divisors} Teiler und hat die meisten Teiler!')"
   ]
  },
  {
   "cell_type": "markdown",
   "id": "ddd0e1c2",
   "metadata": {},
   "source": [
    "### Wilson's Formula\n",
    "\n",
    "Wilson's formula is an exact mathematical formula to compute the n-th prime number.  \n",
    "\n",
    "\n",
    "**Goal:** Implement Wilson's formula in a Python function `wilson(n)` and compute the first five primes: `wilson(1)` to `wilson(5)`.  \n",
    "Use `floor` from the `math` module, as well as `cos` and `pi`.\n"
   ]
  },
  {
   "cell_type": "code",
   "execution_count": 20,
   "id": "be3ccbfc",
   "metadata": {},
   "outputs": [],
   "source": [
    "from math import cos,floor,pi"
   ]
  },
  {
   "cell_type": "code",
   "execution_count": 21,
   "id": "26927218",
   "metadata": {},
   "outputs": [],
   "source": [
    "def factorial(k):\n",
    "    if k == 0 or k == 1:\n",
    "        return 1\n",
    "    result = 1\n",
    "    for i in range(2, k + 1):\n",
    "        result *= i\n",
    "    return result"
   ]
  },
  {
   "cell_type": "code",
   "execution_count": 22,
   "id": "15c51309",
   "metadata": {},
   "outputs": [],
   "source": [
    "def is_non_prime(j):\n",
    "    fact = factorial(j - 1)\n",
    "    value  = ((fact + 1) / j) * pi\n",
    "    cosine = cos(value )\n",
    "    cosine_squared = cosine**2\n",
    "    return floor(cosine_squared)  # 0 (prime) oder 1 (non prime)"
   ]
  },
  {
   "cell_type": "code",
   "execution_count": 23,
   "id": "4a977750",
   "metadata": {},
   "outputs": [],
   "source": [
    "def denominator_sum(i):\n",
    "    sum_denominator = 0\n",
    "    for j in range(1, i+1):\n",
    "        sum_denominator += is_non_prime(j)\n",
    "    return sum_denominator"
   ]
  },
  {
   "cell_type": "code",
   "execution_count": 24,
   "id": "db9b0f73",
   "metadata": {},
   "outputs": [],
   "source": [
    "def term(i, n):\n",
    "    value = n / denominator_sum(i)\n",
    "    value = value**(1/n)\n",
    "    return floor(value) # n-te Primzahl"
   ]
  },
  {
   "cell_type": "code",
   "execution_count": 25,
   "id": "c37cd0dc",
   "metadata": {},
   "outputs": [],
   "source": [
    "def wilson(n):\n",
    "    summe = 0\n",
    "    for i in range(1,2**n+1):\n",
    "        value = term(i,n)\n",
    "        summe += value\n",
    "    return summe + 1"
   ]
  },
  {
   "cell_type": "code",
   "execution_count": 26,
   "id": "7a02b760",
   "metadata": {},
   "outputs": [
    {
     "name": "stdout",
     "output_type": "stream",
     "text": [
      "2\n",
      "3\n",
      "5\n",
      "7\n",
      "11\n"
     ]
    }
   ],
   "source": [
    "# Testen der Wilson-Funktion\n",
    "for i in range(1,6):\n",
    "    print(wilson(i))"
   ]
  },
  {
   "cell_type": "markdown",
   "id": "bddffdc9",
   "metadata": {},
   "source": [
    "### Dataset Model for Data Analysis with Inheritance and Dunder Methods\n",
    "\n",
    "**Goal:** Create a Python data model suitable for data analysis.  \n",
    "The model should include a base class `Dataset` and a derived class `TabularDataset`.  \n",
    "Use inheritance and dunder methods to make the model simple and intuitive.\n",
    "\n",
    "**Requirements:**\n",
    "- `Dataset` is the base class and contains basic properties and methods for datasets (e.g., an attribute `data`).  \n",
    "- `TabularDataset` inherits from `Dataset` and is intended for tabular data.  \n",
    "- Implement `__len__` in `TabularDataset` to return the number of rows.  \n",
    "- Implement `__getitem__` in `TabularDataset` to allow row access by index and support slicing.  \n"
   ]
  },
  {
   "cell_type": "code",
   "execution_count": null,
   "id": "b92a49fe",
   "metadata": {},
   "outputs": [],
   "source": [
    "from typing import Any, Union, List, Dict\n",
    "\n",
    "class Dataset:\n",
    "    def __init__(self, data: List[Any]) -> None:\n",
    "        self.data = data\n",
    "\n",
    "class TabularDataset(Dataset):\n",
    "    def __init__(self, data: List[Dict[str, Any]]) -> None:\n",
    "        super().__init__(data)\n",
    "\n",
    "    def __len__(self) -> int:\n",
    "        return len(self.data)\n",
    "\n",
    "    def __getitem__(self, index: Union[int, slice]) -> Union[Dict[str, Any], List[Dict[str, Any]]]:\n",
    "        return self.data[index]\n"
   ]
  },
  {
   "cell_type": "code",
   "execution_count": 1,
   "id": "7ebf081a",
   "metadata": {},
   "outputs": [
    {
     "ename": "TypeError",
     "evalue": "unsupported operand type(s) for |: 'type' and 'type'",
     "output_type": "error",
     "traceback": [
      "\u001b[0;31m---------------------------------------------------------------------------\u001b[0m",
      "\u001b[0;31mTypeError\u001b[0m                                 Traceback (most recent call last)",
      "Cell \u001b[0;32mIn[1], line 7\u001b[0m\n\u001b[1;32m      3\u001b[0m     \u001b[38;5;28;01mdef\u001b[39;00m\u001b[38;5;250m \u001b[39m\u001b[38;5;21m__init__\u001b[39m(\u001b[38;5;28mself\u001b[39m, data: \u001b[38;5;28mlist\u001b[39m[\u001b[38;5;28many\u001b[39m])\u001b[38;5;241m-\u001b[39m\u001b[38;5;241m>\u001b[39m\u001b[38;5;28;01mNone\u001b[39;00m:\n\u001b[1;32m      4\u001b[0m         \u001b[38;5;28mself\u001b[39m\u001b[38;5;241m.\u001b[39mdata \u001b[38;5;241m=\u001b[39m data\n\u001b[0;32m----> 7\u001b[0m \u001b[38;5;28;01mclass\u001b[39;00m\u001b[38;5;250m \u001b[39m\u001b[38;5;21;01mTabularDataset\u001b[39;00m(Dataset):\n\u001b[1;32m      9\u001b[0m     \u001b[38;5;28;01mdef\u001b[39;00m\u001b[38;5;250m \u001b[39m\u001b[38;5;21m__init__\u001b[39m(\u001b[38;5;28mself\u001b[39m, data: \u001b[38;5;28mlist\u001b[39m[\u001b[38;5;28mdict\u001b[39m[\u001b[38;5;28mstr\u001b[39m,\u001b[38;5;28many\u001b[39m]])\u001b[38;5;241m-\u001b[39m\u001b[38;5;241m>\u001b[39m\u001b[38;5;28;01mNone\u001b[39;00m:\n\u001b[1;32m     10\u001b[0m         \u001b[38;5;28msuper\u001b[39m()\u001b[38;5;241m.\u001b[39m\u001b[38;5;21m__init__\u001b[39m(data)\n",
      "Cell \u001b[0;32mIn[1], line 15\u001b[0m, in \u001b[0;36mTabularDataset\u001b[0;34m()\u001b[0m\n\u001b[1;32m     12\u001b[0m \u001b[38;5;28;01mdef\u001b[39;00m\u001b[38;5;250m \u001b[39m\u001b[38;5;21m__len__\u001b[39m(\u001b[38;5;28mself\u001b[39m)\u001b[38;5;241m-\u001b[39m\u001b[38;5;241m>\u001b[39m\u001b[38;5;28mint\u001b[39m: \n\u001b[1;32m     13\u001b[0m     \u001b[38;5;28;01mreturn\u001b[39;00m \u001b[38;5;28mlen\u001b[39m(\u001b[38;5;28mself\u001b[39m\u001b[38;5;241m.\u001b[39mdata) \u001b[38;5;66;03m#Anzahl Zeilen der Datei\u001b[39;00m\n\u001b[0;32m---> 15\u001b[0m \u001b[38;5;28;01mdef\u001b[39;00m\u001b[38;5;250m \u001b[39m\u001b[38;5;21m__getitem__\u001b[39m(\u001b[38;5;28mself\u001b[39m, index: \u001b[38;5;28;43mint\u001b[39;49m\u001b[43m \u001b[49m\u001b[38;5;241;43m|\u001b[39;49m\u001b[43m \u001b[49m\u001b[38;5;28;43mslice\u001b[39;49m)\u001b[38;5;241m-\u001b[39m\u001b[38;5;241m>\u001b[39m\u001b[38;5;28mdict\u001b[39m[\u001b[38;5;28mstr\u001b[39m,\u001b[38;5;28many\u001b[39m] \u001b[38;5;241m|\u001b[39m \u001b[38;5;28mlist\u001b[39m[\u001b[38;5;28mdict\u001b[39m[\u001b[38;5;28mstr\u001b[39m,\u001b[38;5;28many\u001b[39m]]:\n\u001b[1;32m     16\u001b[0m     \u001b[38;5;28;01mreturn\u001b[39;00m \u001b[38;5;28mself\u001b[39m\u001b[38;5;241m.\u001b[39mdata[index]\n",
      "\u001b[0;31mTypeError\u001b[0m: unsupported operand type(s) for |: 'type' and 'type'"
     ]
    }
   ],
   "source": [
    "class Dataset:\n",
    "\n",
    "    def __init__(self, data: list[any])->None:\n",
    "        self.data = data\n",
    "\n",
    "\n",
    "class TabularDataset(Dataset):\n",
    "\n",
    "    def __init__(self, data: list[dict[str,any]])->None:\n",
    "        super().__init__(data)\n",
    "\n",
    "    def __len__(self)->int: \n",
    "        return len(self.data) #Anzahl Zeilen der Datei\n",
    "\n",
    "    def __getitem__(self, index: int | slice)->dict[str,any] | list[dict[str,any]]:\n",
    "        return self.data[index] #Zugriff auf Zeilen der Datei durch Index\n",
    "     "
   ]
  },
  {
   "cell_type": "code",
   "execution_count": 30,
   "id": "7bc32bb7",
   "metadata": {},
   "outputs": [
    {
     "ename": "NameError",
     "evalue": "name 'TabularDataset' is not defined",
     "output_type": "error",
     "traceback": [
      "\u001b[0;31m---------------------------------------------------------------------------\u001b[0m",
      "\u001b[0;31mNameError\u001b[0m                                 Traceback (most recent call last)",
      "Cell \u001b[0;32mIn[30], line 2\u001b[0m\n\u001b[1;32m      1\u001b[0m \u001b[38;5;66;03m# Beispiel für eine Anwendung des TabularDataset-Objekts\u001b[39;00m\n\u001b[0;32m----> 2\u001b[0m financial_data \u001b[38;5;241m=\u001b[39m \u001b[43mTabularDataset\u001b[49m([\n\u001b[1;32m      3\u001b[0m     {\u001b[38;5;124m'\u001b[39m\u001b[38;5;124mcompany\u001b[39m\u001b[38;5;124m'\u001b[39m: \u001b[38;5;124m'\u001b[39m\u001b[38;5;124mTesla\u001b[39m\u001b[38;5;124m'\u001b[39m, \u001b[38;5;124m'\u001b[39m\u001b[38;5;124mprice\u001b[39m\u001b[38;5;124m'\u001b[39m: \u001b[38;5;241m176.31\u001b[39m, \u001b[38;5;124m'\u001b[39m\u001b[38;5;124mmarket_cap\u001b[39m\u001b[38;5;124m'\u001b[39m: \u001b[38;5;241m0.559\u001b[39m},\n\u001b[1;32m      4\u001b[0m     {\u001b[38;5;124m'\u001b[39m\u001b[38;5;124mcompany\u001b[39m\u001b[38;5;124m'\u001b[39m: \u001b[38;5;124m'\u001b[39m\u001b[38;5;124mApple\u001b[39m\u001b[38;5;124m'\u001b[39m, \u001b[38;5;124m'\u001b[39m\u001b[38;5;124mprice\u001b[39m\u001b[38;5;124m'\u001b[39m: \u001b[38;5;241m158.56\u001b[39m, \u001b[38;5;124m'\u001b[39m\u001b[38;5;124mmarket_cap\u001b[39m\u001b[38;5;124m'\u001b[39m: \u001b[38;5;241m2.647\u001b[39m}\n\u001b[1;32m      5\u001b[0m ])\n\u001b[1;32m      7\u001b[0m \u001b[38;5;28mprint\u001b[39m(\u001b[38;5;28mlen\u001b[39m(financial_data)) \u001b[38;5;66;03m# 2\u001b[39;00m\n\u001b[1;32m      8\u001b[0m \u001b[38;5;28mprint\u001b[39m(financial_data[\u001b[38;5;241m0\u001b[39m]) \u001b[38;5;66;03m# {'company': 'Tesla', 'price': 176.31, 'market_cap': 0.559}\u001b[39;00m\n",
      "\u001b[0;31mNameError\u001b[0m: name 'TabularDataset' is not defined"
     ]
    }
   ],
   "source": [
    "# Beispiel für eine Anwendung des TabularDataset-Objekts\n",
    "financial_data = TabularDataset([\n",
    "    {'company': 'Tesla', 'price': 176.31, 'market_cap': 0.559},\n",
    "    {'company': 'Apple', 'price': 158.56, 'market_cap': 2.647}\n",
    "])\n",
    "\n",
    "print(len(financial_data)) # 2\n",
    "print(financial_data[0]) # {'company': 'Tesla', 'price': 176.31, 'market_cap': 0.559}\n",
    "print(financial_data[0:2])   # [{'company': 'Tesla', 'price': 176.31, 'market_cap': 0.559}, {'company': 'Apple', 'price': 158.56, 'market_cap': 2.647}]\n"
   ]
  }
 ],
 "metadata": {
  "kernelspec": {
   "display_name": "py312",
   "language": "python",
   "name": "py312"
  },
  "language_info": {
   "codemirror_mode": {
    "name": "ipython",
    "version": 3
   },
   "file_extension": ".py",
   "mimetype": "text/x-python",
   "name": "python",
   "nbconvert_exporter": "python",
   "pygments_lexer": "ipython3",
   "version": "3.9.6"
  }
 },
 "nbformat": 4,
 "nbformat_minor": 5
}
