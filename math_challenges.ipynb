{
 "cells": [
  {
   "cell_type": "markdown",
   "id": "5d50757f",
   "metadata": {},
   "source": [
    "## Math Challenges\n",
    "A collection of Python exercises exploring interesting number properties."
   ]
  },
  {
   "cell_type": "markdown",
   "id": "af63d5b0",
   "metadata": {},
   "source": [
    "### Factorial Calculation\n",
    "\n",
    "The factorial of a number is the product of all positive integers up to that number.\n",
    "\n",
    "**Goal:** Calculate the factorial of 10."
   ]
  },
  {
   "cell_type": "code",
   "execution_count": 17,
   "id": "9c5f5764",
   "metadata": {},
   "outputs": [
    {
     "name": "stdout",
     "output_type": "stream",
     "text": [
      "Die Fakultät von 10 ist: 3628800\n"
     ]
    }
   ],
   "source": [
    "fakultät = 1\n",
    "\n",
    "for f in range(1,11):\n",
    "    fakultät *= f\n",
    "print(\"Die Fakultät von 10 ist:\", fakultät)"
   ]
  },
  {
   "cell_type": "markdown",
   "id": "ab7ecc22",
   "metadata": {},
   "source": [
    "### Narcissistic Numbers\n",
    "\n",
    "Numbers whose digits, each raised to the power of the number of digits, sum up to the number itself.  \n",
    "\n",
    "**Goal:** Calculate how many 3-digit narcissistic numbers exist.\n"
   ]
  },
  {
   "cell_type": "code",
   "execution_count": 35,
   "id": "1066f991",
   "metadata": {},
   "outputs": [],
   "source": [
    "def is_three_digit_narcissistic_number(abc):\n",
    "    abc = str(abc)\n",
    "    a = int(abc[0])\n",
    "    b = int(abc[1])\n",
    "    c = int(abc[2])\n",
    "    abc = int(abc)\n",
    "    return ((a**3) + (b**3) + (c**3)) == abc"
   ]
  },
  {
   "cell_type": "code",
   "execution_count": 36,
   "id": "08bf5f5c",
   "metadata": {},
   "outputs": [],
   "source": [
    "def count_three_digit_narcissistic_numbers():\n",
    "    start = 100\n",
    "    end = 999\n",
    "    narcissistic_numbers = []\n",
    "    for n in range(start, end+1):\n",
    "        if is_three_digit_narcissistic_number(n):\n",
    "            narcissistic_numbers.append(n)\n",
    "    print(len(narcissistic_numbers))"
   ]
  },
  {
   "cell_type": "code",
   "execution_count": 37,
   "id": "4b7df638",
   "metadata": {},
   "outputs": [
    {
     "name": "stdout",
     "output_type": "stream",
     "text": [
      "4\n"
     ]
    }
   ],
   "source": [
    "count_three_digit_narcissistic_numbers()"
   ]
  },
  {
   "cell_type": "markdown",
   "id": "f8133e9d",
   "metadata": {},
   "source": [
    "### Palindrome Numbers\n",
    "\n",
    "Numbers that read the same forwards and backwards.  \n",
    "\n",
    "**Goal:** Calculate all palindrome numbers between 100 and 10000."
   ]
  },
  {
   "cell_type": "code",
   "execution_count": 38,
   "id": "340e6b21",
   "metadata": {},
   "outputs": [],
   "source": [
    "def count_palindromes(start : int, end : int):\n",
    "    palindromes = []\n",
    "    for n in range(start,(end+1)):\n",
    "        n = str(n)\n",
    "        if n == n[::-1]:\n",
    "            palindromes.append(n)\n",
    "    print(len(palindromes))"
   ]
  },
  {
   "cell_type": "code",
   "execution_count": 39,
   "id": "25704ced",
   "metadata": {},
   "outputs": [
    {
     "name": "stdout",
     "output_type": "stream",
     "text": [
      "180\n"
     ]
    }
   ],
   "source": [
    "count_palindromes(100,10000)"
   ]
  },
  {
   "cell_type": "markdown",
   "id": "45e0c733",
   "metadata": {},
   "source": [
    "### Circular Prime Numbers\n",
    "\n",
    "A number is a **circular prime** if all rotations of its digits are prime numbers.  \n",
    "\n",
    "**Goal:** Calculate how many circular prime numbers exist between 2 and 1000.\n"
   ]
  },
  {
   "cell_type": "code",
   "execution_count": 40,
   "id": "d71ce15b",
   "metadata": {},
   "outputs": [],
   "source": [
    "def is_prime(number: int):\n",
    "    divisors = []\n",
    "    for n in range(1,number+1):\n",
    "        if number % n == 0:\n",
    "            divisors.append(n)\n",
    "    return len(divisors) == 2\n",
    "        "
   ]
  },
  {
   "cell_type": "code",
   "execution_count": 41,
   "id": "0c5a1da0",
   "metadata": {},
   "outputs": [],
   "source": [
    "def is_circular_prime(number):\n",
    "    if is_prime(number) and number < 10:\n",
    "        return True\n",
    "    elif is_prime(number) and number < 100:\n",
    "        number = str(number)\n",
    "        reverse_number = number[::-1]\n",
    "        reverse_number = int(reverse_number)\n",
    "        return is_prime(reverse_number)\n",
    "    elif is_prime(number) and number < 1000:\n",
    "        number = str(number)\n",
    "        a = number[0]\n",
    "        b = number[1]\n",
    "        c = number[2]\n",
    "        number2 = b + c + a\n",
    "        number2 = int(number2)\n",
    "        if is_prime(number2):\n",
    "            number3 = c + a + b\n",
    "            number3 = int(number3)\n",
    "            return is_prime(number3)\n",
    "    elif is_prime(number) and number < 10000: #Falls 1000 eingeschlossen ist, sonst kann dieses elif entfernt werden.\n",
    "        number = str(number)\n",
    "        a = number[0]\n",
    "        b = number[1]\n",
    "        c = number[2]\n",
    "        d = number[3]\n",
    "        number2 = b + c + d + a\n",
    "        number2 = int(number2)\n",
    "        if is_prime(number2):\n",
    "            number3 = c + d + a + b\n",
    "            number3 = int(number3)\n",
    "            if is_prime(number3):\n",
    "                number4 = d + a + b + c\n",
    "                number4 = int(number4)\n",
    "                return is_prime(number4)"
   ]
  },
  {
   "cell_type": "code",
   "execution_count": 42,
   "id": "55c823ad",
   "metadata": {},
   "outputs": [
    {
     "name": "stdout",
     "output_type": "stream",
     "text": [
      "2 ; 3 ; 5 ; 7 ; 11 ; 13 ; 17 ; 31 ; 37 ; 71 ; 73 ; 79 ; 97 ; 113 ; 131 ; 197 ; 199 ; 311 ; 337 ; 373 ; 719 ; 733 ; 919 ; 971 ; 991 ; \n",
      "Es gibt 25 zirkuläre Primzahlen.\n"
     ]
    }
   ],
   "source": [
    "zirkuläre_primzahlen = 0\n",
    "for n in range(2,1001): #Falls 2 und 1000 eingeschlossen sind, sonst sollte range(3, 1000) sein.\n",
    "    if is_circular_prime(n):\n",
    "        print(n, end=\" ; \")\n",
    "        zirkuläre_primzahlen += 1\n",
    "print(\"\\nEs gibt\", zirkuläre_primzahlen, \"zirkuläre Primzahlen.\")"
   ]
  },
  {
   "cell_type": "markdown",
   "id": "1f169b50",
   "metadata": {},
   "source": [
    "### Number with Most Divisors\n",
    "\n",
    "**Goal:** Find the number between 2 and 1000 that has the highest number of divisors.\n"
   ]
  },
  {
   "cell_type": "code",
   "execution_count": 43,
   "id": "6d1ec8d5",
   "metadata": {},
   "outputs": [],
   "source": [
    "def find_divisors(number):\n",
    "    divisors = []\n",
    "    for n in range(1,number+1):\n",
    "        if number % n == 0:\n",
    "            divisors.append(n)\n",
    "    return len(divisors)"
   ]
  },
  {
   "cell_type": "code",
   "execution_count": 44,
   "id": "c07e214a",
   "metadata": {},
   "outputs": [
    {
     "name": "stdout",
     "output_type": "stream",
     "text": [
      "840 hat 32 Teiler und hat die meisten Teiler!\n"
     ]
    }
   ],
   "source": [
    "max_divisors = 0\n",
    "winner = 0\n",
    "for n in range(3, 1000): #Wenn 2 und 1000 eingeschlossen sind, sollte es range(2, 1001) sein.\n",
    "    if find_divisors(n) > max_divisors:\n",
    "        max_divisors = find_divisors(n)\n",
    "        winner = n\n",
    "print(f'{winner} hat {max_divisors} Teiler und hat die meisten Teiler!')"
   ]
  },
  {
   "cell_type": "markdown",
   "id": "1426f4e1",
   "metadata": {},
   "source": [
    "### Calculation of Euler's Number\n",
    "\n",
    "Euler's number $e$ is a fundamental mathematical constant, approximately $e = 2,718281...$. \n",
    "\n",
    "One way to calculate $e$ is using the formula:  \n",
    "\\begin{align}\n",
    "e = 1 + 1 + \\frac{1}{1\\cdot2}+ \\frac{1}{1\\cdot2\\cdot3}+\\frac{1}{1\\cdot2\\cdot3\\cdot4}+ ... = \\sum_{k=0}^\\infty\\frac{1}{k!}\n",
    "\\end{align}\n",
    "\n",
    "**Goal:** Implement a program to approximate Euler's number $e$ using its characteristic formula.\n"
   ]
  },
  {
   "cell_type": "code",
   "execution_count": 24,
   "id": "f81be682",
   "metadata": {},
   "outputs": [],
   "source": [
    "def fac(n):\n",
    "    if n == 0:\n",
    "        return 1\n",
    "    else:\n",
    "        return n * fac(n - 1)\n",
    "\n",
    "def approx_euler(n):\n",
    "    return sum([1/fac(v) for v in range(n+1)])"
   ]
  },
  {
   "cell_type": "code",
   "execution_count": 25,
   "id": "b3363747",
   "metadata": {},
   "outputs": [
    {
     "name": "stdout",
     "output_type": "stream",
     "text": [
      "Aufgabe gelöst!\n"
     ]
    }
   ],
   "source": [
    "# Prüfung auf Richtigkeit\n",
    "if approx_euler(1000) == 2.7182818284590455:\n",
    "    print(\"Aufgabe gelöst!\")\n",
    "else:    \n",
    "    print(\"Nicht gelöst\")"
   ]
  },
  {
   "cell_type": "markdown",
   "id": "ddd0e1c2",
   "metadata": {},
   "source": [
    "### Wilson's Formula\n",
    "\n",
    "Wilson's formula is an exact mathematical formula to compute the n-th prime number.  \n",
    "\n",
    "\n",
    "**Goal:** Implement Wilson's formula in a Python function `wilson(n)` and compute the first five primes: `wilson(1)` to `wilson(5)`.  \n",
    "Use `floor` from the `math` module, as well as `cos` and `pi`.\n"
   ]
  },
  {
   "cell_type": "code",
   "execution_count": 26,
   "id": "be3ccbfc",
   "metadata": {},
   "outputs": [],
   "source": [
    "from math import cos,floor,pi"
   ]
  },
  {
   "cell_type": "code",
   "execution_count": 27,
   "id": "26927218",
   "metadata": {},
   "outputs": [],
   "source": [
    "def factorial(k):\n",
    "    if k == 0 or k == 1:\n",
    "        return 1\n",
    "    result = 1\n",
    "    for i in range(2, k + 1):\n",
    "        result *= i\n",
    "    return result"
   ]
  },
  {
   "cell_type": "code",
   "execution_count": 28,
   "id": "15c51309",
   "metadata": {},
   "outputs": [],
   "source": [
    "def is_non_prime(j):\n",
    "    fact = factorial(j - 1)\n",
    "    value  = ((fact + 1) / j) * pi\n",
    "    cosine = cos(value )\n",
    "    cosine_squared = cosine**2\n",
    "    return floor(cosine_squared)  # 0 (prime) oder 1 (non prime)"
   ]
  },
  {
   "cell_type": "code",
   "execution_count": 29,
   "id": "4a977750",
   "metadata": {},
   "outputs": [],
   "source": [
    "def denominator_sum(i):\n",
    "    sum_denominator = 0\n",
    "    for j in range(1, i+1):\n",
    "        sum_denominator += is_non_prime(j)\n",
    "    return sum_denominator"
   ]
  },
  {
   "cell_type": "code",
   "execution_count": 30,
   "id": "db9b0f73",
   "metadata": {},
   "outputs": [],
   "source": [
    "def term(i, n):\n",
    "    value = n / denominator_sum(i)\n",
    "    value = value**(1/n)\n",
    "    return floor(value) # n-te Primzahl"
   ]
  },
  {
   "cell_type": "code",
   "execution_count": 31,
   "id": "c37cd0dc",
   "metadata": {},
   "outputs": [],
   "source": [
    "def wilson(n):\n",
    "    summe = 0\n",
    "    for i in range(1,2**n+1):\n",
    "        value = term(i,n)\n",
    "        summe += value\n",
    "    return summe + 1"
   ]
  },
  {
   "cell_type": "code",
   "execution_count": 32,
   "id": "7a02b760",
   "metadata": {},
   "outputs": [
    {
     "name": "stdout",
     "output_type": "stream",
     "text": [
      "2\n",
      "3\n",
      "5\n",
      "7\n",
      "11\n"
     ]
    }
   ],
   "source": [
    "# Testen der Wilson-Funktion\n",
    "for i in range(1,6):\n",
    "    print(wilson(i))"
   ]
  },
  {
   "cell_type": "markdown",
   "id": "a5e6a990",
   "metadata": {},
   "source": [
    "### Goldbach Partition\n",
    "\n",
    "Goldbach's partition is based on **Goldbach's conjecture**, which states that every even number greater than 2 can be expressed as the sum of two prime numbers. \n",
    "\n",
    "**Goal:** Implement a function that takes an even number $n \\geq 4$ and returns all pairs of prime numbers whose sum equals $n$.\n",
    "- The function should return a list of lists, where each inner list contains two prime numbers that sum to $n$.  \n",
    "- Each valid pair should appear in the output, even if a prime occurs in multiple pairs.  "
   ]
  },
  {
   "cell_type": "code",
   "execution_count": 33,
   "id": "f3541d69",
   "metadata": {},
   "outputs": [],
   "source": [
    "def goldbach_partition(n: int) -> list[list[int]]:\n",
    "    def is_prime(num: int) -> bool:\n",
    "        return num > 1 and all(num%n != 0 for n in range(2,num))\n",
    "    primes = [prime for prime in range(2,n) if is_prime(prime)]\n",
    "    return [[prime1, prime2] for prime1 in primes for prime2 in primes if prime1 + prime2 == n and prime2 >= prime1]\n"
   ]
  },
  {
   "cell_type": "code",
   "execution_count": 34,
   "id": "cb6a8cce",
   "metadata": {},
   "outputs": [
    {
     "name": "stdout",
     "output_type": "stream",
     "text": [
      "[[2, 2]]\n",
      "[[3, 3]]\n",
      "[[3, 5]]\n",
      "[[3, 7], [5, 5]]\n",
      "[[5, 7]]\n"
     ]
    }
   ],
   "source": [
    "# Testcases\n",
    "print(goldbach_partition(4))  # [[2, 2]]\n",
    "print(goldbach_partition(6))  # [[3, 3]]\n",
    "print(goldbach_partition(8))  # [[3, 5]]\n",
    "print(goldbach_partition(10))  # [[3, 7], [5, 5]]\n",
    "print(goldbach_partition(12))  # [[5, 7]]"
   ]
  }
 ],
 "metadata": {
  "kernelspec": {
   "display_name": "py312",
   "language": "python",
   "name": "py312"
  },
  "language_info": {
   "codemirror_mode": {
    "name": "ipython",
    "version": 3
   },
   "file_extension": ".py",
   "mimetype": "text/x-python",
   "name": "python",
   "nbconvert_exporter": "python",
   "pygments_lexer": "ipython3",
   "version": "3.9.6"
  }
 },
 "nbformat": 4,
 "nbformat_minor": 5
}
