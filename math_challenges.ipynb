{
 "cells": [
  {
   "cell_type": "markdown",
   "id": "5d50757f",
   "metadata": {},
   "source": [
    "## Math Challenges\n",
    "A collection of Python exercises exploring interesting number properties."
   ]
  },
  {
   "cell_type": "markdown",
   "id": "ab7ecc22",
   "metadata": {},
   "source": [
    "### 3-digit Narcissistic Numbers\n",
    "A **3-digit narcissistic number** is a number whose digits, each raised to the power of three, sum up to the number itself. \\\n",
    "**Goal:** Calculate how many 3-digit narcissistic numbers exist."
   ]
  },
  {
   "cell_type": "code",
   "execution_count": 1,
   "id": "1066f991",
   "metadata": {},
   "outputs": [],
   "source": [
    "def is_three_digit_narcissistic_number(abc):\n",
    "    abc = str(abc)\n",
    "    a = int(abc[0])\n",
    "    b = int(abc[1])\n",
    "    c = int(abc[2])\n",
    "    abc = int(abc)\n",
    "    return ((a**3) + (b**3) + (c**3)) == abc"
   ]
  },
  {
   "cell_type": "code",
   "execution_count": 2,
   "id": "08bf5f5c",
   "metadata": {},
   "outputs": [],
   "source": [
    "def count_three_digit_narcissistic_numbers():\n",
    "    start = 100\n",
    "    end = 999\n",
    "    narcissistic_numbers = []\n",
    "    for n in range(start, end+1):\n",
    "        if is_three_digit_narcissistic_number(n):\n",
    "            narcissistic_numbers.append(n)\n",
    "    print(len(narcissistic_numbers))"
   ]
  },
  {
   "cell_type": "code",
   "execution_count": 3,
   "id": "4b7df638",
   "metadata": {},
   "outputs": [
    {
     "name": "stdout",
     "output_type": "stream",
     "text": [
      "4\n"
     ]
    }
   ],
   "source": [
    "count_three_digit_narcissistic_numbers()"
   ]
  }
 ],
 "metadata": {
  "kernelspec": {
   "display_name": "Python 3",
   "language": "python",
   "name": "python3"
  },
  "language_info": {
   "codemirror_mode": {
    "name": "ipython",
    "version": 3
   },
   "file_extension": ".py",
   "mimetype": "text/x-python",
   "name": "python",
   "nbconvert_exporter": "python",
   "pygments_lexer": "ipython3",
   "version": "3.12.1"
  }
 },
 "nbformat": 4,
 "nbformat_minor": 5
}
