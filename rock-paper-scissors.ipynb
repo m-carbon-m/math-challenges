{
 "cells": [
  {
   "cell_type": "markdown",
   "id": "0a42b9e9-29b1-4869-9ffc-2f782422c5e4",
   "metadata": {},
   "source": [
    "### Schere-Stein-Papier / Rock-Paper-Scissors\n",
    "\n",
    "**Deutsch:**  \n",
    "\n",
    "In diesem Projekt habe ich ein interaktives Schere-Stein-Papier-Spiel erstellt.  \n",
    "Der Spieler kann zwischen „Schere“, „Stein“ oder „Papier“ wählen, während der Computer zufällig eine Auswahl trifft.  \n",
    "Durch dieses Projekt habe ich gelernt, wie man **Benutzereingaben verarbeitet**, **Zufallsgenerierung** nutzt und **Spiel-Logik in Python implementiert**.\n",
    "\n",
    "**English:**  \n",
    "\n",
    "In this project, I created an interactive Rock-Paper-Scissors game.  \n",
    "The player can choose \"rock\", \"paper\", or \"scissors\", while the computer makes a random choice.  \n",
    "Through this project, I learned how to **handle user input**, use **random number generation**, and implement **game logic in Python**.\n"
   ]
  },
  {
   "cell_type": "markdown",
   "id": "e0a86d49-74bc-47ca-9230-39575ee5e321",
   "metadata": {},
   "source": [
    "### 1. Wahl zwischen Schere, Stein und Papier "
   ]
  },
  {
   "cell_type": "code",
   "execution_count": 2,
   "id": "3be76059-98c7-4cef-8fb9-08c7696cdc86",
   "metadata": {},
   "outputs": [],
   "source": [
    "\n",
    "def choose_rock_paper_scissors(player_move):\n",
    "    if player_move == \"stein\":\n",
    "        return 1 \n",
    "    elif player_move == \"papier\":\n",
    "        return 2 \n",
    "    elif player_move == \"schere\":\n",
    "        return 3\n",
    "    elif player_move == \"end\":   \n",
    "        return \"end\"\n",
    "    else: \n",
    "        return \"fehler\""
   ]
  },
  {
   "cell_type": "markdown",
   "id": "0ca4e020-b72b-4df2-964c-cdf35af5d0ac",
   "metadata": {},
   "source": [
    "### 2. Entscheidung des Computers"
   ]
  },
  {
   "cell_type": "code",
   "execution_count": 3,
   "id": "7de25214-a02f-4a7d-82a6-a58b44e3947b",
   "metadata": {},
   "outputs": [
    {
     "name": "stdout",
     "output_type": "stream",
     "text": [
      "3\n"
     ]
    }
   ],
   "source": [
    "from random import randint\n",
    "computer_move = randint(1,3)\n",
    "print(computer_move)\n",
    "\n",
    "def computer_rock_paper_scissors(computer_move):\n",
    "    if computer_move == 1:\n",
    "        print(\"Computer wählt: Stein\")\n",
    "    elif computer_move == 2:\n",
    "        print(\"Computer wählt: Papier\")\n",
    "    elif computer_move == 3:\n",
    "        print(\"Computer wählt: Schere\")"
   ]
  },
  {
   "cell_type": "markdown",
   "id": "57cbb4b9-0bd1-435c-b3c3-df9922bd72f8",
   "metadata": {},
   "source": [
    "### 3. Ergebnis angezeigt und das Spiel beenden"
   ]
  },
  {
   "cell_type": "code",
   "execution_count": 4,
   "id": "215f42e3-a3ee-4280-b2f5-c2d53176db1e",
   "metadata": {},
   "outputs": [],
   "source": [
    "score_computer = 0\n",
    "score_player = 0\n",
    "\n",
    "def result(player, computer, score_player, score_computer):\n",
    "    if player == computer:\n",
    "        print(\"Unentschieden!\")\n",
    "    elif player == 1 and computer == 3:\n",
    "        score_player += 1\n",
    "        print(\"Punkt für dich!\")\n",
    "    elif player == 2 and computer == 1:\n",
    "        score_player += 1\n",
    "        print(\"Punkt für dich!\")\n",
    "    elif player == 3 and computer == 2:\n",
    "        score_player += 1\n",
    "        print(\"Punkt für dich!\")\n",
    "    elif player == 3 and computer == 1:\n",
    "        score_computer += 1\n",
    "        print(\"Punkt für mich!\")\n",
    "    elif player == 1 and computer == 2:\n",
    "        score_computer += 1\n",
    "        print(\"Punkt für mich!\")\n",
    "    elif player == 2 and computer == 3:\n",
    "        score_computer += 1\n",
    "        print(\"Punkt für mich!\")\n",
    "    return score_player, score_computer"
   ]
  },
  {
   "cell_type": "markdown",
   "id": "33314d92-1ddf-4486-905f-db76fc460044",
   "metadata": {},
   "source": [
    "### Projekt: Schere-Stein-Papier"
   ]
  },
  {
   "cell_type": "code",
   "execution_count": 6,
   "id": "cf0eada0-6663-45c8-85d4-0473a71d6cab",
   "metadata": {},
   "outputs": [
    {
     "name": "stdout",
     "output_type": "stream",
     "text": [
      "Hallo!\n",
      "Möchtest du mit mir Schere-Stein-Papier spielen?\n",
      "Wenn du keine Lust mehr hast, gib einfach 'End' ein.\n",
      "\n",
      "Computer wählt: Papier\n",
      "\n",
      "Punkt für mich!\n",
      "\n",
      "Aktueller Punktestand: Spieler 0 - Computer: 1\n",
      "============================================================\n",
      "Computer wählt: Stein\n",
      "\n",
      "Unentschieden!\n",
      "\n",
      "Aktueller Punktestand: Spieler 0 - Computer: 1\n",
      "============================================================\n",
      "\n",
      "Endstand: Spieler 0 - Computer: 1 \n",
      "Danke fürs Spielen!\n"
     ]
    }
   ],
   "source": [
    "from random import randint\n",
    "\n",
    "print(\"Hallo!\\nMöchtest du mit mir Schere-Stein-Papier spielen?\\nWenn du keine Lust mehr hast, gib einfach 'End' ein.\")\n",
    "print()\n",
    "\n",
    "score_computer = 0\n",
    "score_player = 0\n",
    "\n",
    "while True:\n",
    "    \n",
    "    player_move = input(\"Wähle: Schere, Stein oder Papier. \").lower()\n",
    "    if choose_rock_paper_scissors(player_move) == \"fehler\":\n",
    "        print(\"Ungültige Eingabe! Nur Schere, Stein oder Papier sind erlaubt. Versuche es nochmal!\")\n",
    "        print()\n",
    "        continue\n",
    "    if choose_rock_paper_scissors(player_move) == \"end\":\n",
    "        print()\n",
    "        print(\"Endstand: Spieler\", score_player, \"- Computer:\", score_computer,\"\\nDanke fürs Spielen!\")\n",
    "        break\n",
    "    \n",
    "    computer_move = randint(1,3)\n",
    "    computer_rock_paper_scissors(computer_move)\n",
    "    print()\n",
    "\n",
    "    new_score_player, new_score_computer = result(choose_rock_paper_scissors(player_move), computer_move, score_player, score_computer)\n",
    "    score_player, score_computer = new_score_player, new_score_computer\n",
    "    print()\n",
    "    \n",
    "    print(\"Aktueller Punktestand: Spieler\", score_player, \"- Computer:\", score_computer)\n",
    "    print(\"=\" * 60)\n"
   ]
  }
 ],
 "metadata": {
  "kernelspec": {
   "display_name": "py312",
   "language": "python",
   "name": "py312"
  },
  "language_info": {
   "codemirror_mode": {
    "name": "ipython",
    "version": 3
   },
   "file_extension": ".py",
   "mimetype": "text/x-python",
   "name": "python",
   "nbconvert_exporter": "python",
   "pygments_lexer": "ipython3",
   "version": "3.9.6"
  }
 },
 "nbformat": 4,
 "nbformat_minor": 5
}
