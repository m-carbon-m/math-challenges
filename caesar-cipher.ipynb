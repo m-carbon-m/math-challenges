{
 "cells": [
  {
   "cell_type": "markdown",
   "id": "076795f6",
   "metadata": {},
   "source": [
    "### Cäsar-Verschlüsselung / Caesar Cipher\n",
    "\n",
    "**Deutsch:**  \n",
    "\n",
    "In diesem Projekt habe ich ein Programm zur Cäsar-Verschlüsselung erstellt.  \n",
    "Dieses historische Verschlüsselungsverfahren verschiebt die Buchstaben eines Textes basierend auf einer gewählten Verschiebungszahl.  \n",
    "Durch dieses Projekt habe ich gelernt, wie man **Zeichen in ASCII-Werte umwandelt**, den **Modulo-Operator** für Rotation im Alphabet einsetzt und **verschlüsselungsbasierte Logik in Python implementiert**.\n",
    "\n",
    "**English:**  \n",
    "\n",
    "In this project, I created a program for the Caesar cipher.  \n",
    "This historical encryption method shifts the letters of a text based on a chosen shift number.  \n",
    "Through this project, I learned how to **convert characters to ASCII values**, use the **modulo operator** to wrap around the alphabet, and implement **encryption logic in Python**.\n"
   ]
  },
  {
   "cell_type": "markdown",
   "id": "4bdd74c8-fdeb-4a3c-9e59-458cc56f6972",
   "metadata": {},
   "source": [
    "##### 1. Aufforderung zur Eingabe eines Textes"
   ]
  },
  {
   "cell_type": "code",
   "execution_count": 1,
   "id": "aa6328da-78bf-49c5-a82e-75210755f5d3",
   "metadata": {},
   "outputs": [],
   "source": [
    "text = input(\"Gib den zu verschlüsselnden Text ein:\\n\").lower()"
   ]
  },
  {
   "cell_type": "markdown",
   "id": "3ef5a236-1995-4976-84b8-1c50f9ceb1cb",
   "metadata": {},
   "source": [
    "##### 2. Aufforderung zur Eingabe einer Verschiebungszahl"
   ]
  },
  {
   "cell_type": "code",
   "execution_count": 2,
   "id": "021fd9e2-6164-4baf-8b72-1a30435d91cf",
   "metadata": {},
   "outputs": [],
   "source": [
    "shift = int(input(\"Wähle eine Verschiebung:\"))"
   ]
  },
  {
   "cell_type": "markdown",
   "id": "f970d6f9-3038-4a40-b7ca-fba6c8326f68",
   "metadata": {},
   "source": [
    "##### 3. Funktion für die Cäsar-Verschlüsselung mit der gewählten Verschiebungszahl"
   ]
  },
  {
   "cell_type": "code",
   "execution_count": 2,
   "id": "5f1b0042-eff9-4ed8-8550-cccb2e6d4754",
   "metadata": {},
   "outputs": [],
   "source": [
    "def caesar(text : str, shift : int):\n",
    "    shift_values = \"\"\n",
    "    for v in text:\n",
    "        if v == \" \":\n",
    "            shift_v = ord(v)\n",
    "        else:\n",
    "            shift_v = ((ord(v) - ord('a') + shift) % 26 ) + ord('a')\n",
    "        shift_values += (chr(shift_v))\n",
    "    return shift_values"
   ]
  },
  {
   "cell_type": "markdown",
   "id": "e11d3b20-ca0b-4b0d-84c7-e260fb68dae1",
   "metadata": {},
   "source": [
    "##### 4. Ausgabe des verschlüsselten Textes "
   ]
  },
  {
   "cell_type": "code",
   "execution_count": 4,
   "id": "4c84a113-d270-48e2-b95e-1021de602242",
   "metadata": {},
   "outputs": [
    {
     "name": "stdout",
     "output_type": "stream",
     "text": [
      "hfjxfw\n"
     ]
    }
   ],
   "source": [
    "print(caesar(text, shift))"
   ]
  },
  {
   "cell_type": "markdown",
   "id": "8154b446-872d-44dd-b88a-55f0462a88a0",
   "metadata": {},
   "source": [
    "##### 5. Entschlüsselung"
   ]
  },
  {
   "cell_type": "code",
   "execution_count": 5,
   "id": "1601b23b-d837-4f63-a538-0921cf734538",
   "metadata": {},
   "outputs": [
    {
     "name": "stdout",
     "output_type": "stream",
     "text": [
      "caesar\n"
     ]
    }
   ],
   "source": [
    "print(caesar((caesar(text, shift)), - shift))"
   ]
  },
  {
   "cell_type": "markdown",
   "id": "03ba547c-bd4c-46ff-8409-cb8d21a41463",
   "metadata": {},
   "source": [
    "#### Projekt: Cäsar-Verschlüsselung"
   ]
  },
  {
   "cell_type": "code",
   "execution_count": 5,
   "id": "81696c84-9713-406f-9193-394ecd4b1dd2",
   "metadata": {},
   "outputs": [
    {
     "name": "stdout",
     "output_type": "stream",
     "text": [
      "==================================================\n",
      "CAESAR\n",
      "==================================================\n",
      "==================================================\n",
      "==================================================\n",
      "hfjxfw\n",
      "==================================================\n",
      "caesar\n",
      "==================================================\n"
     ]
    }
   ],
   "source": [
    "while True:\n",
    "    print(\"=\" * 50)\n",
    "    print(\"CAESAR\")\n",
    "    print(\"=\" * 50)\n",
    "    text = input(\"Gib den zu verschlüsselnden Text ein:\\n\").lower()\n",
    "    print(\"=\" * 50)\n",
    "    shift = int(input(\"Wähle eine Verschiebung:\"))\n",
    "    if shift <= 0:\n",
    "        print(\"Üngultige Eingabe!\")\n",
    "        continue\n",
    "    print(\"=\" * 50)\n",
    "    print(caesar(text, shift))\n",
    "    print(\"=\" * 50)\n",
    "    if input(\"Möchtest du den Text entschlüsseln? (j/n)\").lower() == \"j\":\n",
    "        print(caesar((caesar(text, shift)), - shift))\n",
    "    print(\"=\" * 50)\n",
    "    if input(\"Noch einmal? (j/n)\").lower() != \"j\":\n",
    "        break"
   ]
  }
 ],
 "metadata": {
  "kernelspec": {
   "display_name": "Python 3",
   "language": "python",
   "name": "python3"
  },
  "language_info": {
   "codemirror_mode": {
    "name": "ipython",
    "version": 3
   },
   "file_extension": ".py",
   "mimetype": "text/x-python",
   "name": "python",
   "nbconvert_exporter": "python",
   "pygments_lexer": "ipython3",
   "version": "3.9.6"
  }
 },
 "nbformat": 4,
 "nbformat_minor": 5
}
