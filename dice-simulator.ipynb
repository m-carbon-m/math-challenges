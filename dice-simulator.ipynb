{
 "cells": [
  {
   "cell_type": "markdown",
   "id": "a0960ee6-aaaa-48e6-b3ee-04f2cd0bd22f",
   "metadata": {},
   "source": [
    "### Würfelsimulation / Dice Simulator\n",
    "\n",
    "**Deutsch:**  \n",
    "\n",
    "In diesem Projekt habe ich ein Programm erstellt, das das Werfen eines fairen Würfels simuliert.  \n",
    "Ziel ist es, die geworfenen Augenzahlen zu sammeln, den Mittelwert zu berechnen und diesen mit dem theoretischen Erwartungswert eines Würfels zu vergleichen.  \n",
    "Durch dieses Projekt habe ich gelernt, wie **Simulationen und statistische Berechnungen in Python umgesetzt werden** können.\n",
    "\n",
    "\n",
    "**English:** \n",
    "\n",
    "In this project, I created a program that simulates rolling a fair dice.  \n",
    "The goal is to collect the outcomes, calculate their average, and compare it to the theoretical expected value of a dice.  \n",
    "Through this project, I learned how **simulations and statistical calculations can be implemented in Python**.\n"
   ]
  },
  {
   "cell_type": "code",
   "execution_count": null,
   "id": "cdf48058-7096-4c09-a2f3-f07bd95f3df3",
   "metadata": {},
   "outputs": [],
   "source": [
    "from random import randint\n",
    "\n",
    "def dice_roll_simulation(n_roll : int):\n",
    "    liste_würfe = 0\n",
    "    for r in range(1,n_roll+1):\n",
    "        wurf = randint(1, 6)\n",
    "        liste_würfe += wurf\n",
    "    m = liste_würfe / n_roll\n",
    "    return m"
   ]
  },
  {
   "cell_type": "code",
   "execution_count": 23,
   "id": "95bb4b8d-1326-44b7-9995-5a15f034279a",
   "metadata": {},
   "outputs": [
    {
     "name": "stdout",
     "output_type": "stream",
     "text": [
      "==================================================\n",
      "WÜRFELSIMULATOR 3000\n",
      "==================================================\n"
     ]
    },
    {
     "name": "stdout",
     "output_type": "stream",
     "text": [
      "Wie viele Würfe sollen simuliert werden?\n",
      " 6550\n"
     ]
    },
    {
     "name": "stdout",
     "output_type": "stream",
     "text": [
      "==================================================\n",
      "Simuliere 6550 Würfe...\n",
      "==================================================\n",
      "Berechneter Mittelwert: 3.5380152671755725\n",
      "Theoretischer Mittelwert: 3.5\n",
      "==================================================\n"
     ]
    },
    {
     "name": "stdout",
     "output_type": "stream",
     "text": [
      "Noch einmal? (j/n)\n",
      " ja\n"
     ]
    },
    {
     "name": "stdout",
     "output_type": "stream",
     "text": [
      "==================================================\n",
      "WÜRFELSIMULATOR 3000\n",
      "==================================================\n"
     ]
    },
    {
     "name": "stdout",
     "output_type": "stream",
     "text": [
      "Wie viele Würfe sollen simuliert werden?\n",
      " 6100\n"
     ]
    },
    {
     "name": "stdout",
     "output_type": "stream",
     "text": [
      "==================================================\n",
      "Simuliere 6100 Würfe...\n",
      "==================================================\n",
      "Berechneter Mittelwert: 3.4959016393442623\n",
      "Theoretischer Mittelwert: 3.5\n",
      "==================================================\n"
     ]
    },
    {
     "name": "stdout",
     "output_type": "stream",
     "text": [
      "Noch einmal? (j/n)\n",
      " ja\n"
     ]
    },
    {
     "name": "stdout",
     "output_type": "stream",
     "text": [
      "==================================================\n",
      "WÜRFELSIMULATOR 3000\n",
      "==================================================\n"
     ]
    },
    {
     "name": "stdout",
     "output_type": "stream",
     "text": [
      "Wie viele Würfe sollen simuliert werden?\n",
      " 6001\n"
     ]
    },
    {
     "name": "stdout",
     "output_type": "stream",
     "text": [
      "==================================================\n",
      "Simuliere 6001 Würfe...\n",
      "==================================================\n",
      "Berechneter Mittelwert: 3.5225795700716547\n",
      "Theoretischer Mittelwert: 3.5\n",
      "==================================================\n"
     ]
    },
    {
     "name": "stdout",
     "output_type": "stream",
     "text": [
      "Noch einmal? (j/n)\n",
      " ja\n"
     ]
    },
    {
     "name": "stdout",
     "output_type": "stream",
     "text": [
      "==================================================\n",
      "WÜRFELSIMULATOR 3000\n",
      "==================================================\n"
     ]
    },
    {
     "name": "stdout",
     "output_type": "stream",
     "text": [
      "Wie viele Würfe sollen simuliert werden?\n",
      " 6000\n"
     ]
    },
    {
     "name": "stdout",
     "output_type": "stream",
     "text": [
      "==================================================\n",
      "Simuliere 6000 Würfe...\n",
      "==================================================\n",
      "Berechneter Mittelwert: 3.4805\n",
      "Theoretischer Mittelwert: 3.5\n",
      "==================================================\n"
     ]
    },
    {
     "name": "stdout",
     "output_type": "stream",
     "text": [
      "Noch einmal? (j/n)\n",
      " nein\n"
     ]
    }
   ],
   "source": [
    "while True:\n",
    "    print(\"=\" * 50)\n",
    "    print(\"WÜRFELSIMULATOR 3000\")\n",
    "    print(\"=\" * 50)\n",
    "    n = int(input(\"Wie viele Würfe sollen simuliert werden?\\n\"))\n",
    "    if n <= 0:\n",
    "        print(\"Üngultige Eingabe!\")\n",
    "        continue\n",
    "    print(\"=\" * 50)\n",
    "    print(\"Simuliere\", n, \"Würfe...\")\n",
    "    print(\"=\" * 50)\n",
    "    print(\"Berechneter Mittelwert:\", dice_roll_simulation(n))\n",
    "    print(\"Theoretischer Mittelwert: 3.5\")\n",
    "    print(\"=\" * 50)\n",
    "    if input(\"Noch einmal? (j/n)\\n\").lower() != \"ja\":\n",
    "        break"
   ]
  }
 ],
 "metadata": {
  "kernelspec": {
   "display_name": "Python 3 (ipykernel)",
   "language": "python",
   "name": "python3"
  },
  "language_info": {
   "codemirror_mode": {
    "name": "ipython",
    "version": 3
   },
   "file_extension": ".py",
   "mimetype": "text/x-python",
   "name": "python",
   "nbconvert_exporter": "python",
   "pygments_lexer": "ipython3",
   "version": "3.12.7"
  }
 },
 "nbformat": 4,
 "nbformat_minor": 5
}
