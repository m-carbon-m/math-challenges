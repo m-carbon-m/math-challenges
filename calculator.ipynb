{
 "cells": [
  {
   "cell_type": "markdown",
   "id": "5754bf80-ec8b-4da5-bf31-fe7272c83178",
   "metadata": {},
   "source": [
    "### Taschenrechner / Calculator\n",
    "\n",
    "**Deutsch:**  \n",
    "\n",
    "In diesem Projekt habe ich einen interaktiven Taschenrechner erstellt, der auf Benutzereingaben reagiert und verschiedene mathematische Operationen durchführt.  \n",
    "Durch dieses Projekt habe ich gelernt, wie man **Benutzereingaben verarbeitet**, **arithmetische Operationen in Python implementiert** und **interaktive Schleifen programmiert**.\n",
    "\n",
    "**English:**  \n",
    "\n",
    "In this project, I created an interactive calculator that responds to user input and performs various mathematical operations.  \n",
    "Through this project, I learned how to **handle user input**, implement **arithmetic operations in Python**, and create **interactive loops**."
   ]
  },
  {
   "cell_type": "markdown",
   "id": "f84d8b3d-4ece-455f-b891-9a5e4fd0d31f",
   "metadata": {},
   "source": [
    "#### 1. Aufforderung zur Eingabe der Gleitkommazahlen"
   ]
  },
  {
   "cell_type": "code",
   "execution_count": 2,
   "id": "ee954ea4-f91b-42e0-a4f8-60abdec49135",
   "metadata": {},
   "outputs": [],
   "source": [
    "n1 = float(input(\"Tippe die erste Zahl ein:              \"))\n",
    "n2 = float(input(\"Tippe die zweite Zahl ein:             \"))"
   ]
  },
  {
   "cell_type": "markdown",
   "id": "9f547526-6db9-45e9-8d5f-bc8d8ffdd965",
   "metadata": {},
   "source": [
    "#### 2. Aufforderung zur Auswahl eines mathematischen Operators"
   ]
  },
  {
   "cell_type": "code",
   "execution_count": 3,
   "id": "9d014fb2-55d7-4d71-a436-ac1d4bf64114",
   "metadata": {},
   "outputs": [],
   "source": [
    "operator = input(\"Was willst du mit diesen Zahlen tun?   \")"
   ]
  },
  {
   "cell_type": "markdown",
   "id": "eea7edbe-8ca7-4978-baf5-6f12dea645c5",
   "metadata": {},
   "source": [
    "#### 3. Die Operatoren"
   ]
  },
  {
   "cell_type": "code",
   "execution_count": 4,
   "id": "4c24bb83-d9ac-4acc-a5ff-a73cb0d6c0d0",
   "metadata": {},
   "outputs": [],
   "source": [
    "def add(x, y):\n",
    "    return x + y\n",
    "\n",
    "def subtract(x, y):\n",
    "    return x - y\n",
    "\n",
    "def multiply(x, y):\n",
    "    return x * y\n",
    "\n",
    "def divide(x, y):\n",
    "    return x / y\n",
    "\n",
    "def floor_divide(x, y):\n",
    "    return x // y\n",
    "\n",
    "def modulus(x, y):\n",
    "    return x % y\n",
    "\n",
    "def power(x, y):\n",
    "    return x ** y"
   ]
  },
  {
   "cell_type": "markdown",
   "id": "b5197a50-11da-4665-96bb-048a17695f40",
   "metadata": {},
   "source": [
    "#### 4. Berechnung und Anzeige des Ergebnisses"
   ]
  },
  {
   "cell_type": "code",
   "execution_count": 5,
   "id": "ade8a8cd-beb1-499c-800f-17001cb14c41",
   "metadata": {},
   "outputs": [
    {
     "name": "stdout",
     "output_type": "stream",
     "text": [
      "Das Ergebnis der Rechnung 23.0 + 2.0 lautet 25.0 !\n"
     ]
    }
   ],
   "source": [
    "if operator == \"+\":\n",
    "    print(\"Das Ergebnis der Rechnung\", n1, \"+\", n2, \"lautet\", add(n1, n2) ,\"!\")\n",
    "elif operator == \"-\":\n",
    "    print(\"Das Ergebnis der Rechnung\", n1, \"-\", n2, \"lautet\", subtract(n1, n2) ,\"!\")\n",
    "elif operator == \"*\":\n",
    "    print(\"Das Ergebnis der Rechnung\", n1, \"*\", n2, \"lautet\", multiply(n1, n2) ,\"!\")\n",
    "elif operator == \"/\":\n",
    "    print(\"Das Ergebnis der Rechnung\", n1, \"/\", n2, \"lautet\", divide(n1, n2) ,\"!\")\n",
    "elif operator == \"//\":\n",
    "    print(\"Das Ergebnis der Rechnung\", n1, \"//\", n2, \"lautet\", floor_divide(n1, n2) ,\"!\")\n",
    "elif operator == \"%\":\n",
    "    print(\"Das Ergebnis der Rechnung\", n1, \"%\", n2, \"lautet\", modulus(n1, n2) ,\"!\")\n",
    "elif operator == \"**\":\n",
    "    print(\"Das Ergebnis der Rechnung\", n1, \"**\", n2, \"lautet\", power(n1, n2) ,\"!\")"
   ]
  },
  {
   "cell_type": "markdown",
   "id": "a4f9f71a-7365-461a-acc4-0ef6eb417383",
   "metadata": {},
   "source": [
    "#### 5. Wiederholungsabfrage"
   ]
  },
  {
   "cell_type": "code",
   "execution_count": 8,
   "id": "38feca10-f2bd-4fb4-8dfa-dd68187eb333",
   "metadata": {},
   "outputs": [],
   "source": [
    "wiederholung = input(\"Noch einmal? (ja/nein):\")"
   ]
  },
  {
   "cell_type": "markdown",
   "id": "60cb04fd-9fc9-4645-8bb2-d02c9f04b719",
   "metadata": {},
   "source": [
    "### Projekt: Taschenrechner"
   ]
  },
  {
   "cell_type": "code",
   "execution_count": 12,
   "id": "2724b89d-f776-420e-b3df-38dddd2fd137",
   "metadata": {},
   "outputs": [
    {
     "name": "stdout",
     "output_type": "stream",
     "text": [
      "Guten Tag!\n",
      "Ich bin ein Taschenrechner!\n",
      "Ich kann +, −, ×, /, //, % und ** berechnen!\n",
      "==================================================\n",
      "==================================================\n",
      "Das Ergebnis der Rechnung 4.0 + 6.0 lautet 10.0 !\n",
      "==================================================\n",
      "==================================================\n",
      "==================================================\n",
      "Ungültige Eingabe!\n",
      "Ich kann nicht durch 0 teilen.\n",
      "Bitte versuche es erneut mit einer anderen Zahl.\n",
      "==================================================\n",
      "==================================================\n",
      "==================================================\n",
      "Das Ergebnis der Rechnung 2.0 ** 2.0 lautet 4.0 !\n",
      "==================================================\n"
     ]
    }
   ],
   "source": [
    "print(\"Guten Tag!\\nIch bin ein Taschenrechner!\\nIch kann +, −, ×, /, //, % und ** berechnen!\")\n",
    "print(\"=\" * 50)\n",
    "\n",
    "while True:\n",
    "    n1 = float(input(\"Tippe die erste Zahl ein:              \"))\n",
    "    n2 = float(input(\"Tippe die zweite Zahl ein:             \"))\n",
    "    operator = input(\"Was willst du mit diesen Zahlen tun?   \")\n",
    "    \n",
    "    print(\"=\" * 50)\n",
    "   \n",
    "    if operator == \"+\":\n",
    "        print(\"Das Ergebnis der Rechnung\", n1, \"+\", n2, \"lautet\", add(n1, n2) ,\"!\")\n",
    "    elif operator == \"-\":\n",
    "        print(\"Das Ergebnis der Rechnung\", n1, \"-\", n2, \"lautet\", subtract(n1, n2) ,\"!\")\n",
    "    elif operator == \"x\":\n",
    "        print(\"Das Ergebnis der Rechnung\", n1, \"*\", n2, \"lautet\", multiply(n1, n2) ,\"!\")\n",
    "    elif operator == \"/\":\n",
    "        if n2 == 0:\n",
    "            print(\"Ungültige Eingabe!\\nIch kann nicht durch 0 teilen.\\nBitte versuche es erneut mit einer anderen Zahl.\")\n",
    "        else:\n",
    "            print(\"Das Ergebnis der Rechnung\", n1, \"/\", n2, \"lautet\", divide(n1, n2) ,\"!\")\n",
    "    elif operator == \"//\":\n",
    "        if n2 == 0:\n",
    "            print(\"Ungültige Eingabe!\\nIch kann nicht durch 0 teilen.\\nBitte versuche es erneut mit einer anderen Zahl.\")\n",
    "        else:\n",
    "            print(\"Das Ergebnis der Rechnung\", n1, \"//\", n2, \"lautet\", floor_divide(n1, n2) ,\"!\")\n",
    "    elif operator == \"%\":\n",
    "        if n2 == 0:\n",
    "            print(\"Ungültige Eingabe!\\nIch kann nicht durch 0 teilen.\\nBitte versuche es erneut mit einer anderen Zahl.\")\n",
    "        else:\n",
    "            print(\"Das Ergebnis der Rechnung\", n1, \"%\", n2, \"lautet\", modulus(n1, n2) ,\"!\")\n",
    "    elif operator == \"**\":\n",
    "        print(\"Das Ergebnis der Rechnung\", n1, \"**\", n2, \"lautet\", power(n1, n2) ,\"!\")\n",
    "    else:\n",
    "        print(\"Ungültiger Operator!\\nIch kann nur +, −, ×, /, //, % und ** berechnen.\\nBitte versuche es erneut!\")\n",
    "    \n",
    "    print(\"=\" * 50)\n",
    "    \n",
    "    wiederholung = input(\"Noch einmal? (ja/nein):\")\n",
    "    if wiederholung.lower() == \"ja\":\n",
    "        print(\"=\" * 50)\n",
    "    else:\n",
    "        break"
   ]
  },
  {
   "cell_type": "code",
   "execution_count": null,
   "id": "cb019bee-c606-433a-bbbb-dd9526f0030c",
   "metadata": {},
   "outputs": [],
   "source": []
  }
 ],
 "metadata": {
  "kernelspec": {
   "display_name": "py312",
   "language": "python",
   "name": "py312"
  },
  "language_info": {
   "codemirror_mode": {
    "name": "ipython",
    "version": 3
   },
   "file_extension": ".py",
   "mimetype": "text/x-python",
   "name": "python",
   "nbconvert_exporter": "python",
   "pygments_lexer": "ipython3",
   "version": "3.9.6"
  }
 },
 "nbformat": 4,
 "nbformat_minor": 5
}
